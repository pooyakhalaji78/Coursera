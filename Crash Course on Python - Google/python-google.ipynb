{
  "cells": [
    {
      "cell_type": "markdown",
      "metadata": {
        "id": "7OqqUnqYk2ei"
      },
      "source": [
        "# Coursera Lesson"
      ]
    },
    {
      "cell_type": "markdown",
      "metadata": {
        "id": "Ur5zDCHCi7_c"
      },
      "source": [
        "## Module 1: Conversions\n",
        "str() converts to string\n",
        "\n",
        "int() converts to integer\n",
        "\n",
        "float() converts to float"
      ]
    },
    {
      "cell_type": "markdown",
      "metadata": {
        "id": "arkr28b889i2"
      },
      "source": [
        " Data Types: strings, tuples, dictionaries, lists, and objects\n",
        "\n",
        " Keywords: in, not, or, for, while, return\n",
        "\n",
        " Operators: + - * / ** % // <> ==\n",
        "\n",
        " Functions: A group of related statements to perform a task and return a value"
      ]
    },
    {
      "cell_type": "markdown",
      "metadata": {},
      "source": [
        "### Function"
      ]
    },
    {
      "cell_type": "code",
      "execution_count": null,
      "metadata": {
        "colab": {
          "base_uri": "https://localhost:8080/"
        },
        "id": "wrWnlKeA9Eh9",
        "outputId": "5345d41b-f70e-48d3-a781-e9332d4d4dcb"
      },
      "outputs": [
        {
          "data": {
            "text/plain": [
              "23.88888888888889"
            ]
          },
          "execution_count": 3,
          "metadata": {},
          "output_type": "execute_result"
        }
      ],
      "source": [
        "#Function\n",
        "def to_celsius(x):\n",
        "    '''Convert Fahrenheit to Celsius'''\n",
        "    return (x-32) * 5/9\n",
        "\n",
        "\n",
        "to_celsius(75)"
      ]
    },
    {
      "cell_type": "code",
      "execution_count": null,
      "metadata": {
        "colab": {
          "base_uri": "https://localhost:8080/"
        },
        "id": "6QUfen829Wdd",
        "outputId": "95cf6954-9c9c-4143-d91d-15b5b94090ce"
      },
      "outputs": [
        {
          "name": "stdout",
          "output_type": "stream",
          "text": [
            "15\n",
            "Hello world\n"
          ]
        }
      ],
      "source": [
        "print(7+8)\n",
        "print(\"Hello \"+\"world\")"
      ]
    },
    {
      "cell_type": "markdown",
      "metadata": {},
      "source": [
        "### What type of datatype is at use."
      ]
    },
    {
      "cell_type": "code",
      "execution_count": null,
      "metadata": {
        "colab": {
          "base_uri": "https://localhost:8080/"
        },
        "id": "eGW1KrN19gNF",
        "outputId": "9b7ec9ee-624a-4118-dfb0-8469f8ea2fd0"
      },
      "outputs": [
        {
          "name": "stdout",
          "output_type": "stream",
          "text": [
            "<class 'str'>\n",
            "<class 'int'>\n",
            "<class 'float'>\n"
          ]
        }
      ],
      "source": [
        "# what type of datatype is at use.\n",
        "print(type(\"a\"))\n",
        "print(type(2))\n",
        "print(type(2.5))"
      ]
    },
    {
      "cell_type": "code",
      "execution_count": null,
      "metadata": {
        "colab": {
          "base_uri": "https://localhost:8080/"
        },
        "id": "_VHPtjai9jFU",
        "outputId": "f1df4df1-4cc2-4100-8ecb-558ffcad6dc1"
      },
      "outputs": [
        {
          "name": "stdout",
          "output_type": "stream",
          "text": [
            "15.5\n",
            "abc\n",
            "This is a test\n"
          ]
        }
      ],
      "source": [
        "print(7+8.5)\n",
        "print(\"a\"+\"b\"+\"c\")\n",
        "print(\"This \" + \"is \" + \"a \" + \"test\")"
      ]
    },
    {
      "cell_type": "code",
      "execution_count": null,
      "metadata": {
        "colab": {
          "base_uri": "https://localhost:8080/"
        },
        "id": "EBwIuMQh9j1M",
        "outputId": "3777eb86-7541-411f-8ae8-c9230eabaa35"
      },
      "outputs": [
        {
          "name": "stdout",
          "output_type": "stream",
          "text": [
            "The area of the triangle is 9.0\n"
          ]
        }
      ],
      "source": [
        "base=6\n",
        "height=3\n",
        "area=(base*height)/2\n",
        "print(\"The area of the triangle is\",area)"
      ]
    },
    {
      "cell_type": "code",
      "execution_count": null,
      "metadata": {
        "colab": {
          "base_uri": "https://localhost:8080/"
        },
        "id": "kXS0C3nx9weV",
        "outputId": "f54949c1-7a6e-4df0-d593-2602adbbde45"
      },
      "outputs": [
        {
          "name": "stdout",
          "output_type": "stream",
          "text": [
            "5*3=15\n"
          ]
        }
      ],
      "source": [
        "print(\"5*3=\" + str(5*3))\n",
        "#you need to put str() in order for it to calculate."
      ]
    },
    {
      "cell_type": "markdown",
      "metadata": {},
      "source": [
        "### Functions"
      ]
    },
    {
      "cell_type": "code",
      "execution_count": null,
      "metadata": {
        "colab": {
          "base_uri": "https://localhost:8080/"
        },
        "id": "kkIQeK-d92cf",
        "outputId": "74c23975-c299-4317-a123-1fa74ebe1faa"
      },
      "outputs": [
        {
          "name": "stdout",
          "output_type": "stream",
          "text": [
            "Hello John, you are 40 years old.\n",
            "your name has 4 letters in it.\n",
            "Hello Pooya, you are 20 years old.\n",
            "your name has 5 letters in it.\n"
          ]
        }
      ],
      "source": [
        "#Functions\n",
        "def greeting(name, age):\n",
        "    print(\"Hello \" + name + \", you are \" + str(age) + \" years old.\")\n",
        "    print(\"your name has \" + str(len(name)) + \" letters in it.\")\n",
        "\n",
        "greeting(\"John\", 40)\n",
        "greeting(\"Pooya\" , 20)"
      ]
    },
    {
      "cell_type": "code",
      "execution_count": null,
      "metadata": {
        "colab": {
          "base_uri": "https://localhost:8080/"
        },
        "id": "dt-nVVZo94rd",
        "outputId": "e574d382-82ba-4a64-f46b-c5b90cac62c8"
      },
      "outputs": [
        {
          "name": "stdout",
          "output_type": "stream",
          "text": [
            "<class 'str'>\n",
            "<class 'int'>\n",
            "<class 'str'>\n"
          ]
        }
      ],
      "source": [
        "# What type of datatype is at use.\n",
        "print(type(\"what could it be?\"))\n",
        "print(type(2))\n",
        "print(type(str(2)))  # str() converts anything to string"
      ]
    },
    {
      "cell_type": "markdown",
      "metadata": {},
      "source": [
        "### Sorting"
      ]
    },
    {
      "cell_type": "code",
      "execution_count": null,
      "metadata": {
        "colab": {
          "base_uri": "https://localhost:8080/"
        },
        "id": "CLJTMWlD95uO",
        "outputId": "09bd0ddf-455d-4651-8082-70edc6721e8d"
      },
      "outputs": [
        {
          "name": "stdout",
          "output_type": "stream",
          "text": [
            "[2, 6, 7, 9, 10, 14, 21, 23, 24, 26]\n",
            "2\n",
            "26\n"
          ]
        }
      ],
      "source": [
        "#Sotring\n",
        "random_numbers = [24, 26, 14, 2, 6, 23, 9, 10, 7, 21]\n",
        "print(sorted(random_numbers))\n",
        "print(min(random_numbers))\n",
        "print(max(random_numbers))"
      ]
    },
    {
      "cell_type": "markdown",
      "metadata": {},
      "source": [
        "### Area of triangle"
      ]
    },
    {
      "cell_type": "code",
      "execution_count": null,
      "metadata": {
        "colab": {
          "base_uri": "https://localhost:8080/"
        },
        "id": "VjRiDZA699a-",
        "outputId": "877ae495-2261-427f-e5c2-61369a9116b3"
      },
      "outputs": [
        {
          "name": "stdout",
          "output_type": "stream",
          "text": [
            "Triangle a has an area of 3.0\n",
            "Triangle b has an area of 12.0\n",
            "<class 'float'>\n",
            "<class 'str'>\n"
          ]
        }
      ],
      "source": [
        "#Area of triangle\n",
        "def area_triangle(base, height):\n",
        "    return (base * height) / 2\n",
        "\n",
        "triangle_a=area_triangle(2,3)\n",
        "triangle_b=area_triangle(6,4)\n",
        "print(\"Triangle a has an area of\",triangle_a)\n",
        "print(\"Triangle b has an area of\",triangle_b)\n",
        "print(type(triangle_a))\n",
        "print(type(str(triangle_a)))\n",
        "#Note to myself: string basically converts anything into words."
      ]
    },
    {
      "cell_type": "markdown",
      "metadata": {},
      "source": [
        "### Hours conversion"
      ]
    },
    {
      "cell_type": "code",
      "execution_count": null,
      "metadata": {
        "colab": {
          "base_uri": "https://localhost:8080/"
        },
        "id": "sg128U1w9_RN",
        "outputId": "a4410456-466c-4477-fcd1-2745e21f43e2"
      },
      "outputs": [
        {
          "name": "stdout",
          "output_type": "stream",
          "text": [
            "Hours: 1 Minutes: 23 Seconds: 20\n"
          ]
        }
      ],
      "source": [
        "# Hours conversion\n",
        "# // is floor division: 5//2=2\n",
        "def convert_seconds(second):\n",
        "    hours = second // 3600\n",
        "    minutes = (second - hours * 3600) // 60\n",
        "    remaining_seconds = second - hours * 3600 - minutes * 60\n",
        "    return hours, minutes, remaining_seconds\n",
        "\n",
        "hours, minutes, seconds = convert_seconds(5000)\n",
        "print(\"Hours:\", hours, \"Minutes:\", minutes, \"Seconds:\", seconds)"
      ]
    },
    {
      "cell_type": "markdown",
      "metadata": {},
      "source": [
        "### No return example"
      ]
    },
    {
      "cell_type": "code",
      "execution_count": null,
      "metadata": {
        "colab": {
          "base_uri": "https://localhost:8080/"
        },
        "id": "yzjZbFXb-Br2",
        "outputId": "c8b74a80-25aa-4859-d464-629190b9bd94"
      },
      "outputs": [
        {
          "name": "stdout",
          "output_type": "stream",
          "text": [
            "Welcome John\n",
            "None\n"
          ]
        }
      ],
      "source": [
        "#No return example\n",
        "def greetings(name):\n",
        "    print(\"Welcome \" + name)\n",
        "\n",
        "result=greetings(\"John\")\n",
        "print(result)\n",
        "#When a function has no return, the output returns None"
      ]
    },
    {
      "cell_type": "code",
      "execution_count": null,
      "metadata": {
        "colab": {
          "base_uri": "https://localhost:8080/"
        },
        "id": "mOcV-oQZ-DiG",
        "outputId": "334378fb-5e85-460e-b4ea-c8345868a05a"
      },
      "outputs": [
        {
          "name": "stdout",
          "output_type": "stream",
          "text": [
            "Hello PooyaYour lucky number is 45\n"
          ]
        }
      ],
      "source": [
        "#Example 1\n",
        "name = \"Pooya\"\n",
        "number = len(name) * 9\n",
        "print(\"Hello \"+ name + \"Your lucky number is \" + str(number))"
      ]
    },
    {
      "cell_type": "code",
      "execution_count": null,
      "metadata": {
        "colab": {
          "base_uri": "https://localhost:8080/"
        },
        "id": "t3qWy_64-FQd",
        "outputId": "567cf3b8-90bc-4bd3-cf8d-96a624ea7461"
      },
      "outputs": [
        {
          "name": "stdout",
          "output_type": "stream",
          "text": [
            "Your lucky number is 45\n",
            "Your lucky number is 36\n"
          ]
        }
      ],
      "source": [
        "# Example 1 function\n",
        "def lucky_number(name):\n",
        "    number = len(name) * 9\n",
        "    return(print(\"Your lucky number is \" + str(number)))\n",
        "\n",
        "lucky_number(\"Pooya\")\n",
        "lucky_number(\"Linh\")"
      ]
    },
    {
      "cell_type": "code",
      "execution_count": null,
      "metadata": {
        "colab": {
          "base_uri": "https://localhost:8080/"
        },
        "id": "YWRenwki-HYM",
        "outputId": "cb2bae85-2729-4a73-94f2-f2250a1085e5"
      },
      "outputs": [
        {
          "name": "stdout",
          "output_type": "stream",
          "text": [
            "78.5\n"
          ]
        }
      ],
      "source": [
        "#Example 2 is good for learning how to use different names for variables.\n",
        "#Refactoring code: process to restore code without changing functionality\n",
        "def calculate(d):\n",
        "    pi = 3.14\n",
        "    result = pi * (d**2)\n",
        "    print(result)\n",
        "\n",
        "calculate(5)\n",
        "#Output: 78.5"
      ]
    },
    {
      "cell_type": "markdown",
      "metadata": {},
      "source": [
        "### function with multiple parameters"
      ]
    },
    {
      "cell_type": "code",
      "execution_count": null,
      "metadata": {
        "colab": {
          "base_uri": "https://localhost:8080/"
        },
        "id": "hIrV2Ofm-JF2",
        "outputId": "c9cada45-08e5-4437-cb7d-76b92a49c5e2"
      },
      "outputs": [
        {
          "name": "stdout",
          "output_type": "stream",
          "text": [
            "910\n"
          ]
        }
      ],
      "source": [
        "#function with multiple parameters\n",
        "#This function calculates the number of days in a variable number of\n",
        "#years, months, and days. provided by the user and are passed to function\n",
        "#with function parameters.\n",
        "def find_total_days(years, months, days):\n",
        "    my_days = (years*365) + (months*30) + days\n",
        "    return my_days\n",
        "\n",
        "print(find_total_days(2, 5, 30))"
      ]
    },
    {
      "cell_type": "markdown",
      "metadata": {},
      "source": [
        "### Boolean operators"
      ]
    },
    {
      "cell_type": "code",
      "execution_count": null,
      "metadata": {
        "colab": {
          "base_uri": "https://localhost:8080/"
        },
        "id": "ptMjVOqE-OSP",
        "outputId": "b1044566-9319-4d1e-e487-4023d74175fc"
      },
      "outputs": [
        {
          "name": "stdout",
          "output_type": "stream",
          "text": [
            "True\n",
            "False\n",
            "True\n",
            "True\n",
            "False\n",
            "False\n",
            "True\n",
            "True\n",
            "False\n",
            "True\n"
          ]
        }
      ],
      "source": [
        "#Boolean operators\n",
        "print(19 > 3)\n",
        "print(\"cat\" > \"dog\")\n",
        "print(\"cat\" == \"cat\")\n",
        "print(1 != 2)\n",
        "#print(1<\"1\") #gives an error compares integer to a string\n",
        "print(1 == \"1\")  #its obvious because they are not the same type so no error\n",
        "print(\"Yellow\" > \"Cyan\" and \"Brown\" > \"Magenta\")  #it uses unicode to see which is higher\n",
        "print(25 > 50 or 1 != 2)\n",
        "print(not 42 == \"Answer\")\n",
        "print(5 + 10 == 20)\n",
        "print(2 + 4 != 7 + 20)"
      ]
    },
    {
      "cell_type": "code",
      "execution_count": null,
      "metadata": {
        "colab": {
          "base_uri": "https://localhost:8080/"
        },
        "id": "REEwrKPn-U26",
        "outputId": "7dcc98aa-1fd4-46d2-c6fd-e161252d398a"
      },
      "outputs": [
        {
          "name": "stdout",
          "output_type": "stream",
          "text": [
            "True\n",
            "False\n",
            "True\n",
            "False\n"
          ]
        }
      ],
      "source": [
        "# not operator will return reverse value of the boolean value\n",
        "print(\"A\"==\"A\")\n",
        "print(not(\"A\"==\"A\"))\n",
        "print((6*3>=18) and (9+9<=36/2))\n",
        "print(\"Tehran\"<\"Isfahan\") #it checks using Unicode who is higher"
      ]
    },
    {
      "cell_type": "code",
      "execution_count": null,
      "metadata": {
        "colab": {
          "base_uri": "https://localhost:8080/"
        },
        "id": "zkCgtaNv-c8C",
        "outputId": "8e3540a2-6162-4631-a6f5-e6aaceee8a64"
      },
      "outputs": [
        {
          "name": "stdout",
          "output_type": "stream",
          "text": [
            "The value of x is: \n",
            "False\n",
            "\n",
            "The inversion of x is: \n",
            "True\n"
          ]
        }
      ],
      "source": [
        "# Sample 3\n",
        "x=2*3>6\n",
        "print(\"The value of x is: \")\n",
        "print(x)\n",
        "print(\"\") #prints a blank line\n",
        "print(\"The inversion of x is: \")\n",
        "print(not x)"
      ]
    },
    {
      "cell_type": "markdown",
      "metadata": {},
      "source": [
        "### Branching with IF and ElIF"
      ]
    },
    {
      "cell_type": "code",
      "execution_count": null,
      "metadata": {
        "colab": {
          "base_uri": "https://localhost:8080/"
        },
        "id": "2epPSJVs-epD",
        "outputId": "17bc3414-5d4a-4064-b511-7f7f135b433f"
      },
      "outputs": [
        {
          "name": "stdout",
          "output_type": "stream",
          "text": [
            "Valid username.\n",
            "Invalid username, must be at most 15 characters.\n",
            "Invalid username, must be at least 3 characters.\n"
          ]
        }
      ],
      "source": [
        "#-----------------BRANCHING WITH IF and ELIF STATEMENTS--------------------\n",
        "def hint_username(username):\n",
        "    if len(username) < 3:\n",
        "        print(\"Invalid username, must be at least 3 characters.\")\n",
        "\n",
        "    elif len(username) > 15:\n",
        "        print(\"Invalid username, must be at most 15 characters.\")\n",
        "\n",
        "    else:\n",
        "        print(\"Valid username.\")\n",
        "\n",
        "hint_username(\"Pooya\")\n",
        "hint_username(\"Pooya1234567891011\")\n",
        "hint_username(\"P\")\n",
        "#There is no need to add print in the end because it is already\n",
        "#in the function."
      ]
    },
    {
      "cell_type": "markdown",
      "metadata": {},
      "source": [
        "### Is even or odd"
      ]
    },
    {
      "cell_type": "code",
      "execution_count": null,
      "metadata": {
        "colab": {
          "base_uri": "https://localhost:8080/"
        },
        "id": "vmpKARn5-iff",
        "outputId": "4115aac7-75ef-4382-ae25-b070bd8fca65"
      },
      "outputs": [
        {
          "name": "stdout",
          "output_type": "stream",
          "text": [
            "True\n",
            "False\n",
            "2\n",
            "0\n"
          ]
        }
      ],
      "source": [
        "#-----------------EXAMPLE 4: IS EVEN OR ODD---------------------------------\n",
        "def is_even(n):\n",
        "    if n%2 == 0:\n",
        "        return print(\"True\")\n",
        "    return print(\"False\")\n",
        "\n",
        "is_even(2)\n",
        "is_even(5)\n",
        "print(8%3)\n",
        "print(8%2)"
      ]
    },
    {
      "cell_type": "markdown",
      "metadata": {},
      "source": [
        "### error explainer"
      ]
    },
    {
      "cell_type": "code",
      "execution_count": null,
      "metadata": {
        "colab": {
          "base_uri": "https://localhost:8080/"
        },
        "id": "9CRekGwi-nAm",
        "outputId": "6549a5de-1a1b-4c06-a695-7dc835e66690"
      },
      "outputs": [
        {
          "name": "stdout",
          "output_type": "stream",
          "text": [
            "Server received an unauthenticated request.\n",
            "Requested web page not found on server.\n",
            "Server request timed out.\n",
            "Unknown error code.\n"
          ]
        }
      ],
      "source": [
        "#-----------------EXAMPLE 5: ERROR EXPLAINER---------------------------------\n",
        "def translate_error_code(error_code):\n",
        "    if error_code == \"401 Unauthorized\":\n",
        "        translation=\"Server received an unauthenticated request.\"\n",
        "    elif error_code == \"404 Not Found\":\n",
        "        translation=\"Requested web page not found on server.\"\n",
        "    elif error_code == \"408 Request Timeout\":\n",
        "        translation=\"Server request timed out.\"\n",
        "    else:\n",
        "        translation=\"Unknown error code.\"\n",
        "    return translation #when we return it will bring the value out from the function\n",
        "\n",
        "print(translate_error_code(\"401 Unauthorized\"))\n",
        "print(translate_error_code(\"404 Not Found\"))\n",
        "print(translate_error_code(\"408 Request Timeout\"))\n",
        "print(translate_error_code(\"500 Internal Server Error\"))"
      ]
    },
    {
      "cell_type": "code",
      "execution_count": null,
      "metadata": {
        "colab": {
          "base_uri": "https://localhost:8080/"
        },
        "id": "6VYT058--qlu",
        "outputId": "8177a374-0f0c-40e3-cb24-4b0e2783224d"
      },
      "outputs": [
        {
          "name": "stdout",
          "output_type": "stream",
          "text": [
            "The number is 33.\n",
            "The number is between 6 and 32.\n",
            "The number is 5 or smaller.\n",
            "The number is 100.\n"
          ]
        }
      ],
      "source": [
        "#-----------------EXAMPLE 6: GEUSSING VALUE OF NUMBER-------------------------\n",
        "def geuss_number(number):\n",
        "    if number <= 5:\n",
        "        print(\"The number is 5 or smaller.\")\n",
        "    elif number == 33:\n",
        "        print(\"The number is 33.\")\n",
        "    elif number < 32 and number >= 6:\n",
        "        print('The number is between 6 and 32.')\n",
        "    else:\n",
        "        print('The number is ' + str(number) + \".\")\n",
        "\n",
        "geuss_number(33)\n",
        "geuss_number(10)\n",
        "geuss_number(5)\n",
        "geuss_number(100)"
      ]
    },
    {
      "cell_type": "code",
      "execution_count": null,
      "metadata": {
        "colab": {
          "base_uri": "https://localhost:8080/"
        },
        "id": "qEBxawtk-0d_",
        "outputId": "8432aebb-b459-4a92-dfbd-c8c1e42629eb"
      },
      "outputs": [
        {
          "name": "stdout",
          "output_type": "stream",
          "text": [
            "Check backup images\n",
            "Run TPS report\n",
            "Reboot servers\n",
            "Provide IT Support to employees\n"
          ]
        }
      ],
      "source": [
        "#-----------------EXAMPLE 8: TASK REMINDER----------------------------------\n",
        "def task_reminder(time_as_string):\n",
        "    if time_as_string == \"8:00 a.m.\":\n",
        "        task = \"Check backup images\"\n",
        "    elif time_as_string == \"11:30 a.m.\":\n",
        "        task = \"Run TPS report\"\n",
        "    elif time_as_string == \"5:30 p.m.\":\n",
        "        task = \"Reboot servers\"\n",
        "    else:\n",
        "        task = \"Provide IT Support to employees\"\n",
        "    return task\n",
        "\n",
        "print(task_reminder(\"8:00 a.m.\"))\n",
        "print(task_reminder(\"11:30 a.m.\"))\n",
        "print(task_reminder(\"5:30 p.m.\"))\n",
        "print(task_reminder(\"10:00 p.m.\"))"
      ]
    },
    {
      "cell_type": "markdown",
      "metadata": {},
      "source": [
        "### operators"
      ]
    },
    {
      "cell_type": "code",
      "execution_count": null,
      "metadata": {
        "colab": {
          "base_uri": "https://localhost:8080/"
        },
        "id": "nx-z2jSJ-4vH",
        "outputId": "564a08ac-3829-4b88-ba89-541cd93eca9f"
      },
      "outputs": [
        {
          "name": "stdout",
          "output_type": "stream",
          "text": [
            "6\n",
            "-1\n",
            "5\n",
            "0.6666666666666666\n"
          ]
        }
      ],
      "source": [
        "#-----------------EXAMPLE 9: Operators---------------------------------------\n",
        "def product(a, b):\n",
        "    return (a*b)\n",
        "\n",
        "def difference(a, b):\n",
        "    return (a-b)\n",
        "\n",
        "def sum(a, b):\n",
        "    return (a+b)\n",
        "\n",
        "def get_remainder(x, y):\n",
        "    if x==0 or y==0 or x==y:\n",
        "        remainder=0\n",
        "    else:\n",
        "        remainder=(x % y)/y\n",
        "    return remainder\n",
        "\n",
        "print(product(2, 3))\n",
        "print(difference(2, 3))\n",
        "print(sum(2, 3))\n",
        "print(get_remainder(2, 3))"
      ]
    },
    {
      "cell_type": "markdown",
      "metadata": {
        "id": "fImTGyrg-8SQ"
      },
      "source": [
        "## Module 2:Loops"
      ]
    },
    {
      "cell_type": "markdown",
      "metadata": {},
      "source": [
        "### while loops"
      ]
    },
    {
      "cell_type": "code",
      "execution_count": null,
      "metadata": {
        "colab": {
          "base_uri": "https://localhost:8080/"
        },
        "id": "qsNdaTE-_GUn",
        "outputId": "3bb22260-8bdc-4808-8a70-8cadd200e292"
      },
      "outputs": [
        {
          "name": "stdout",
          "output_type": "stream",
          "text": [
            "Not there yet, x=0\n",
            "Not there yet, x=1\n",
            "Not there yet, x=2\n",
            "Not there yet, x=3\n",
            "Not there yet, x=4\n",
            "x=5\n"
          ]
        }
      ],
      "source": [
        "# @title Example 1: While loops\n",
        "x = 0\n",
        "while x < 5: #This part is the loop\n",
        "    print(\"Not there yet, x=\" + str(x))\n",
        "    x = x + 1\n",
        "print(\"x=\" + str(x)) #This part is the else"
      ]
    },
    {
      "cell_type": "markdown",
      "metadata": {},
      "source": [
        "### attempts"
      ]
    },
    {
      "cell_type": "code",
      "execution_count": null,
      "metadata": {
        "colab": {
          "base_uri": "https://localhost:8080/"
        },
        "id": "9IuyJ-0K_IjO",
        "outputId": "0ed8e777-bdc5-4a39-af84-faddf8f3b536"
      },
      "outputs": [
        {
          "name": "stdout",
          "output_type": "stream",
          "text": [
            "Attempt number 1\n",
            "Attempt number 2\n",
            "Attempt number 3\n",
            "Attempt number 4\n",
            "Attempt number 5\n",
            "Done\n"
          ]
        }
      ],
      "source": [
        "# @title Example 2: Attempts\n",
        "def attempts(n):\n",
        "    x = 1\n",
        "    while x<= n:\n",
        "        print(\"Attempt number \" + str(x))\n",
        "        x += 1 # x = x + 1\n",
        "    print(\"Done\") #when it is on the same level with while it counts as else\n",
        "\n",
        "attempts(5)"
      ]
    },
    {
      "cell_type": "markdown",
      "metadata": {},
      "source": [
        "### while"
      ]
    },
    {
      "cell_type": "code",
      "execution_count": null,
      "metadata": {
        "colab": {
          "base_uri": "https://localhost:8080/"
        },
        "id": "w-39fGsg_LL_",
        "outputId": "b06b9c1e-b151-49c1-8f83-3cc0b1801586"
      },
      "outputs": [
        {
          "name": "stdout",
          "output_type": "stream",
          "text": [
            "Hello 5\n",
            "Hello 6\n",
            "Hello 7\n",
            "Hello 8\n",
            "Hello 9\n",
            "Done\n"
          ]
        }
      ],
      "source": [
        "# @title Example 3: While\n",
        "my_variable = 5\n",
        "while my_variable < 10:\n",
        "    print(\"Hello \" + str(my_variable))\n",
        "    my_variable += 1\n",
        "print(\"Done\")"
      ]
    },
    {
      "cell_type": "code",
      "execution_count": null,
      "metadata": {
        "colab": {
          "base_uri": "https://localhost:8080/"
        },
        "id": "IG3Zi2hF_N5n",
        "outputId": "98a16961-4b91-4ed2-f619-0270dfc33fa1"
      },
      "outputs": [
        {
          "name": "stdout",
          "output_type": "stream",
          "text": [
            "1\n",
            "3\n",
            "6\n",
            "10\n",
            "15\n",
            "21\n",
            "28\n",
            "36\n",
            "45\n",
            "45 362880\n"
          ]
        }
      ],
      "source": [
        "# @title Example 4: While\n",
        "x = 1\n",
        "sum = 0\n",
        "while x < 10:\n",
        "    sum = sum + x\n",
        "    x = x + 1\n",
        "    print(sum)\n",
        "\n",
        "x=1\n",
        "product = 1\n",
        "while x < 10:\n",
        "    product = product * x\n",
        "    x = x + 1\n",
        "\n",
        "print(sum, product)"
      ]
    },
    {
      "cell_type": "code",
      "execution_count": null,
      "metadata": {
        "colab": {
          "base_uri": "https://localhost:8080/"
        },
        "id": "sIGhalLG_QOI",
        "outputId": "97a701af-34c7-4fc7-bf15-b43425e9bf9c"
      },
      "outputs": [
        {
          "name": "stdout",
          "output_type": "stream",
          "text": [
            "1\n",
            "2\n",
            "3\n",
            "4\n",
            "5\n"
          ]
        }
      ],
      "source": [
        "# @title Example 5: print_range\n",
        "def print_range(start, end):\n",
        "    n=start\n",
        "    while n <= end:\n",
        "        print(n)\n",
        "        n += 1\n",
        "print_range(1, 5)"
      ]
    },
    {
      "cell_type": "code",
      "execution_count": null,
      "metadata": {
        "colab": {
          "base_uri": "https://localhost:8080/"
        },
        "id": "SObyoj55_SRP",
        "outputId": "83a34bd0-917e-4a5f-a297-04659777e044"
      },
      "outputs": [
        {
          "name": "stdout",
          "output_type": "stream",
          "text": [
            "5\n",
            "10\n",
            "15\n",
            "20\n",
            "25\n",
            "30\n",
            "35\n",
            "40\n",
            "45\n",
            "50\n",
            "Done\n"
          ]
        }
      ],
      "source": [
        "# @title Example 6: multiplier\n",
        "multiplier = 1\n",
        "result = multiplier * 5\n",
        "while result <= 50:\n",
        "    print(result)\n",
        "    multiplier += 1\n",
        "    result = multiplier * 5\n",
        "print(\"Done\")"
      ]
    },
    {
      "cell_type": "markdown",
      "metadata": {},
      "source": [
        "### factors"
      ]
    },
    {
      "cell_type": "code",
      "execution_count": null,
      "metadata": {
        "colab": {
          "base_uri": "https://localhost:8080/"
        },
        "id": "VxBULsuP_U3o",
        "outputId": "c3f2ac45-69ad-4b5c-cb72-621beb8c21e7"
      },
      "outputs": [
        {
          "name": "stdout",
          "output_type": "stream",
          "text": [
            "0\n",
            "3\n",
            "5\n",
            "9\n"
          ]
        }
      ],
      "source": [
        "# @title Example 7: factors\n",
        "def count_factors(given_number):\n",
        "    factor = 1\n",
        "    count = 1\n",
        "\n",
        "    if given_number == 0:\n",
        "        return 0\n",
        "\n",
        "    while factor <= given_number:\n",
        "        if given_number % factor == 0:\n",
        "            count += 1\n",
        "        factor += 1\n",
        "    return count\n",
        "\n",
        "print(count_factors(0))\n",
        "print(count_factors(3))\n",
        "print(count_factors(10))\n",
        "print(count_factors(24))"
      ]
    },
    {
      "cell_type": "code",
      "execution_count": null,
      "metadata": {
        "colab": {
          "base_uri": "https://localhost:8080/"
        },
        "id": "QIGw0lsV_ZlX",
        "outputId": "7fd60736-4535-4ee2-de0e-4fd11211747c"
      },
      "outputs": [
        {
          "name": "stdout",
          "output_type": "stream",
          "text": [
            "5 + 1 = 6\n",
            "5 + 2 = 7\n",
            "5 + 3 = 8\n",
            "5 + 4 = 9\n",
            "5 + 5 = 10\n",
            "17 + 1 = 18\n",
            "17 + 2 = 19\n",
            "17 + 3 = 20\n"
          ]
        }
      ],
      "source": [
        "# @title Example 8: Task reminder\n",
        "def addition_table(given_number):\n",
        "    iterated_number = 1\n",
        "    my_sum = 1\n",
        "    while iterated_number <= 5:\n",
        "        my_sum = given_number + iterated_number\n",
        "        if my_sum > 20:\n",
        "            break\n",
        "        print(str(given_number), \"+\", str(iterated_number), \"=\", str(my_sum))\n",
        "        iterated_number += 1\n",
        "addition_table(5)\n",
        "addition_table(17)\n",
        "addition_table(30)"
      ]
    },
    {
      "cell_type": "markdown",
      "metadata": {
        "id": "QEz_R4UZiIzD"
      },
      "source": [
        "## Module 3: For Loop\n",
        "\n",
        "Break: to exit the loop before condition is false\n",
        "\n",
        "Pass: A placeholder when syntax requires a statement, but you dont want to execute any code or command."
      ]
    },
    {
      "cell_type": "code",
      "execution_count": null,
      "metadata": {
        "colab": {
          "base_uri": "https://localhost:8080/"
        },
        "id": "bOyfPHjB_cwP",
        "outputId": "bb66b9ba-3099-42fc-d1c3-c41e25595518"
      },
      "outputs": [
        {
          "name": "stdout",
          "output_type": "stream",
          "text": [
            "0\n",
            "1\n",
            "2\n",
            "3\n",
            "4\n"
          ]
        }
      ],
      "source": [
        "# @title Example 1\n",
        "for x in range(5):\n",
        "    print(x)"
      ]
    },
    {
      "cell_type": "code",
      "execution_count": null,
      "metadata": {
        "colab": {
          "base_uri": "https://localhost:8080/"
        },
        "id": "8_NH9Yeb_fdI",
        "outputId": "4fcd8e57-fb32-416c-801a-659dc01a4e6b"
      },
      "outputs": [
        {
          "name": "stdout",
          "output_type": "stream",
          "text": [
            "Hi Ari\n",
            "Hi Eri\n",
            "Hi Popi\n"
          ]
        }
      ],
      "source": [
        "# @title Example 2\n",
        "friends = [\"Ari\", \"Eri\", \"Popi\"]\n",
        "for friend in friends:\n",
        "    print(\"Hi \" + friend)"
      ]
    },
    {
      "cell_type": "code",
      "execution_count": null,
      "metadata": {
        "colab": {
          "base_uri": "https://localhost:8080/"
        },
        "id": "YzurOLCA_h6I",
        "outputId": "3fa9bf27-4c1b-47b3-cbc5-c4d52ca79d16"
      },
      "outputs": [
        {
          "name": "stdout",
          "output_type": "stream",
          "text": [
            "Total sum: 429 - Average: 85.8\n"
          ]
        }
      ],
      "source": [
        "# @title Example 3\n",
        "values = [27, 43, 5, 56, 298]\n",
        "sum = 0\n",
        "length = 0\n",
        "\n",
        "for value in values:\n",
        "    sum = sum + value\n",
        "    length = length +1\n",
        "\n",
        "print(\"Total sum: \" + str(sum) + \" - Average: \" + str(sum/length))"
      ]
    },
    {
      "cell_type": "code",
      "execution_count": null,
      "metadata": {
        "colab": {
          "base_uri": "https://localhost:8080/"
        },
        "id": "-o5SGr6P_j9w",
        "outputId": "16e48708-2c44-492b-8497-3b9951cd959e"
      },
      "outputs": [
        {
          "name": "stdout",
          "output_type": "stream",
          "text": [
            "362880\n"
          ]
        }
      ],
      "source": [
        "# @title Example 4\n",
        "product = 1\n",
        "for n in range(1,10):\n",
        "    product = product * n\n",
        "\n",
        "print(product)"
      ]
    },
    {
      "cell_type": "code",
      "execution_count": null,
      "metadata": {
        "colab": {
          "base_uri": "https://localhost:8080/"
        },
        "id": "PieiTWFG_mK4",
        "outputId": "26c2a421-7d29-41d8-e209-cbd430636be8"
      },
      "outputs": [
        {
          "name": "stdout",
          "output_type": "stream",
          "text": [
            "0 -17.77777777777778\n",
            "10 -12.222222222222221\n",
            "20 -6.666666666666667\n",
            "30 -1.1111111111111112\n",
            "40 4.444444444444445\n",
            "50 10.0\n",
            "60 15.555555555555555\n",
            "70 21.11111111111111\n",
            "80 26.666666666666668\n",
            "90 32.22222222222222\n",
            "100 37.77777777777778\n"
          ]
        }
      ],
      "source": [
        "# @title Example 5\n",
        "def to_celcius(x):\n",
        "    return (x-32)*5/9\n",
        "\n",
        "for x in range(0,101,10): #range(start, end, step)\n",
        "    print(x, to_celcius(x))"
      ]
    },
    {
      "cell_type": "markdown",
      "metadata": {},
      "source": [
        "### Euro to Toman"
      ]
    },
    {
      "cell_type": "code",
      "execution_count": null,
      "metadata": {
        "colab": {
          "base_uri": "https://localhost:8080/"
        },
        "id": "OWMkVrko_oPg",
        "outputId": "e04824a6-d1a3-409b-9151-0acf2b902418"
      },
      "outputs": [
        {
          "name": "stdout",
          "output_type": "stream",
          "text": [
            "Your value in toman is 6420000 toman.\n",
            "Your value in euro is 1.557632398753894 euro.\n"
          ]
        }
      ],
      "source": [
        "# @title Example 6: Euro to Toman\n",
        "def toman_to_euro(value_in_toman):\n",
        "    one_euro=64200\n",
        "    value_in_euro = value_in_toman/one_euro\n",
        "    return print(\"Your value in euro is \" + str(value_in_euro) + \" euro.\")\n",
        "\n",
        "def euro_to_toman(value_in_euro):\n",
        "    one_euro=64200\n",
        "    value_in_toman = value_in_euro*one_euro\n",
        "    return print(\"Your value in toman is \" + str(value_in_toman) + \" toman.\")\n",
        "\n",
        "euro_to_toman(100)\n",
        "toman_to_euro(100000)"
      ]
    },
    {
      "cell_type": "code",
      "execution_count": null,
      "metadata": {
        "colab": {
          "base_uri": "https://localhost:8080/"
        },
        "id": "p6YahE8B_quQ",
        "outputId": "11a044b4-f010-41b4-d6c8-fdad7a3958ab"
      },
      "outputs": [
        {
          "name": "stdout",
          "output_type": "stream",
          "text": [
            "10\n",
            "9\n",
            "8\n",
            "7\n",
            "6\n",
            "5\n",
            "4\n",
            "3\n",
            "2\n",
            "1\n",
            "Blastoff!\n"
          ]
        }
      ],
      "source": [
        "# @title Example 7\n",
        "def countdown(n):\n",
        "    while n>0:\n",
        "        print(n)\n",
        "        n = n-1\n",
        "    print(\"Blastoff!\")\n",
        "\n",
        "countdown(10)"
      ]
    },
    {
      "cell_type": "code",
      "execution_count": null,
      "metadata": {
        "colab": {
          "base_uri": "https://localhost:8080/"
        },
        "id": "wQAkcVbM_syw",
        "outputId": "f4c4af38-074d-41cd-a685-17dda0d853da"
      },
      "outputs": [
        {
          "name": "stdout",
          "output_type": "stream",
          "text": [
            "-50\n",
            "-42\n",
            "-34\n",
            "-26\n",
            "-18\n",
            "-10\n",
            "-2\n",
            "6\n",
            "9\n",
            "12\n",
            "15\n",
            "18\n",
            "21\n",
            "2\n",
            "1\n",
            "0\n",
            "-1\n"
          ]
        }
      ],
      "source": [
        "# @title Example 8\n",
        "def range_1(down, up):\n",
        "    for n in range(down, up, 8):\n",
        "        print(n)\n",
        "\n",
        "def range_2():\n",
        "    for number in range(2,7+1):\n",
        "        print(number*3)\n",
        "\n",
        "def range_3():\n",
        "    for x in range(2, -2, -1):\n",
        "        print(x)\n",
        "\n",
        "range_1(-50, 2)\n",
        "range_2()\n",
        "range_3()"
      ]
    },
    {
      "cell_type": "code",
      "execution_count": null,
      "metadata": {
        "colab": {
          "base_uri": "https://localhost:8080/"
        },
        "id": "jZMrbYGp_vEw",
        "outputId": "94a760bf-dd63-4855-a9ec-b976d45161c7"
      },
      "outputs": [
        {
          "name": "stdout",
          "output_type": "stream",
          "text": [
            "[0|0] [0|1] [0|2] [0|3] [0|4] [0|5] [0|6] \n",
            "[1|1] [1|2] [1|3] [1|4] [1|5] [1|6] \n",
            "[2|2] [2|3] [2|4] [2|5] [2|6] \n",
            "[3|3] [3|4] [3|5] [3|6] \n",
            "[4|4] [4|5] [4|6] \n",
            "[5|5] [5|6] \n",
            "[6|6] \n"
          ]
        }
      ],
      "source": [
        "# @title Example 9\n",
        "for left in range(7):\n",
        "    for right in range(left, 7):\n",
        "        print(\"[\" + str(left) + \"|\" + str(right) + \"]\", end=\" \")\n",
        "    print()"
      ]
    },
    {
      "cell_type": "code",
      "execution_count": null,
      "metadata": {
        "colab": {
          "base_uri": "https://localhost:8080/"
        },
        "id": "HSJxQoyk_xBh",
        "outputId": "2b092e73-3d4a-4dda-d40d-7c52dd404a18"
      },
      "outputs": [
        {
          "name": "stdout",
          "output_type": "stream",
          "text": [
            "Real Madrid vs Barcelona\n",
            "Real Madrid vs Bayern Munich\n",
            "Barcelona vs Real Madrid\n",
            "Barcelona vs Bayern Munich\n",
            "Bayern Munich vs Real Madrid\n",
            "Bayern Munich vs Barcelona\n"
          ]
        }
      ],
      "source": [
        "# @title Example 10\n",
        "teams = [\"Real Madrid\", \"Barcelona\", \"Bayern Munich\"]\n",
        "for home_team in teams:\n",
        "    for away_team in teams:\n",
        "        if home_team != away_team:\n",
        "            print(home_team, \"vs\", away_team)"
      ]
    },
    {
      "cell_type": "code",
      "execution_count": null,
      "metadata": {
        "colab": {
          "base_uri": "https://localhost:8080/"
        },
        "id": "7BLEFIfV_zSw",
        "outputId": "a48f57c5-bde9-4662-9c43-8bbac0c3495a"
      },
      "outputs": [
        {
          "name": "stdout",
          "output_type": "stream",
          "text": [
            "Processing element: 1\n",
            "Processing element: 2\n",
            "Processing element: 3\n",
            "Processing element: 4\n",
            "Processing element: 5\n",
            "Processing pair: 1 1\n",
            "Processing pair: 1 2\n",
            "Processing pair: 1 3\n",
            "Processing pair: 1 4\n",
            "Processing pair: 1 5\n",
            "Processing pair: 2 1\n",
            "Processing pair: 2 2\n",
            "Processing pair: 2 3\n",
            "Processing pair: 2 4\n",
            "Processing pair: 2 5\n",
            "Processing pair: 3 1\n",
            "Processing pair: 3 2\n",
            "Processing pair: 3 3\n",
            "Processing pair: 3 4\n",
            "Processing pair: 3 5\n",
            "Processing pair: 4 1\n",
            "Processing pair: 4 2\n",
            "Processing pair: 4 3\n",
            "Processing pair: 4 4\n",
            "Processing pair: 4 5\n",
            "Processing pair: 5 1\n",
            "Processing pair: 5 2\n",
            "Processing pair: 5 3\n",
            "Processing pair: 5 4\n",
            "Processing pair: 5 5\n"
          ]
        }
      ],
      "source": [
        "# @title Example 11\n",
        "def do_something(element1, element2=None):\n",
        "    if element2 is None:\n",
        "        # Action to perform on a single element\n",
        "        print(\"Processing element:\", element1)\n",
        "    else:\n",
        "        # Action to perform on a pair of elements\n",
        "        print(\"Processing pair:\", element1, element2)\n",
        "long_list = [1, 2, 3, 4, 5]  # Replace with your actual list\n",
        "for element in long_list:\n",
        "    do_something(element)\n",
        "\n",
        "for element1 in long_list:\n",
        "    for element2 in long_list:\n",
        "        do_something(element1, element2)\n"
      ]
    },
    {
      "cell_type": "markdown",
      "metadata": {},
      "source": [
        "### List strings"
      ]
    },
    {
      "cell_type": "code",
      "execution_count": null,
      "metadata": {
        "id": "tQLgTH0b0SQr"
      },
      "outputs": [],
      "source": [
        "# @title Example 12: for loop - List strings\n",
        "#nested for loops 1\n",
        "def ex_1():\n",
        "  for left in range(7):\n",
        "    for right in range(left, 7,2): #range(start, end, step_size)\n",
        "    # \"end=\" makes the for loop from normally going into \"next line\" to do\n",
        "    # whatever you want which in this example is to just a \"space\".\n",
        "      print(\"[\" + str(left) + \"|\" + str(right) + \"]\", end=\" \")\n",
        "    print()\n",
        "\n",
        "#nested for loops 2\n",
        "def ex_2():\n",
        "  teams = [\"Real Madrid\", \"Barcelona\", \"Bayern Munich\"]\n",
        "  for home_team in teams:\n",
        "    for away_team in teams:\n",
        "      if home_team != away_team and away_team != \"Barcelona\":\n",
        "        print(f'{home_team} vs {away_team}')\n",
        "\n",
        "#looping string\n",
        "def ex_3(x):\n",
        "  for letter in x:\n",
        "    print(letter)\n",
        "\n",
        "#loop with indexing\n",
        "def ex_4(letter: str, index: int): #with x: str you define that x is a string\n",
        "  while index < len(letter):\n",
        "    print(letter[index], end= \" | \")\n",
        "    index += 1\n",
        "\n",
        "#List comprehensions\n",
        "def ex_5(numbers, power):\n",
        "  squared_numbers = [x ** power for x in numbers]\n",
        "  print(squared_numbers)\n",
        "\n",
        "#strings\n",
        "def ex_6(list_strings):\n",
        "  print(f'[0]:{list_strings[0]}')\n",
        "  print(f'[1][4:8]:{list_strings[1][4:8]}')\n",
        "  print(f'[0][0:1]: {list_strings[0][0:1]}')\n",
        "  print(f'[2]: {list_strings[2]}')\n",
        "  print(f'[-1]: {list_strings[-1]}')\n",
        "  print(f'[2][3:]: {list_strings[2][3:]}')\n",
        "  print(f'[2][:10]: {list_strings[2][:10]}')\n",
        "  print(f'[20:21]: {list_strings[20:21]}')\n",
        "  print(f'joining strings: {list_strings[0] + list_strings[1]}')\n",
        "\n",
        "#phone number format\n",
        "def ex_7(phone_num):\n",
        "  area_code = \"(\" + phone_num[:3] + \")\"\n",
        "  exchange = phone_num[3:6]\n",
        "  line = phone_num [-4:]\n",
        "  print(area_code + \" \" + exchange + \"-\" + line)\n",
        "\n",
        "#greeting friends\n",
        "def ex_8(friend_list, excluded_friend):\n",
        "  for i in friend_list:\n",
        "    if i != excluded_friend:\n",
        "      print(f'Hi {i}')\n",
        "\n",
        "#select vowels\n",
        "def ex_9(sentence):\n",
        "  for i in sentence:\n",
        "    if i.lower() in ['a', 'e', 'i', 'o', 'u']: #it checks the lowercase if its equal to them\n",
        "      print(i, end=\" | \")\n",
        "\n",
        "\n",
        "\n",
        "#---------------------------print-------------------------\n",
        "#ex_1()\n",
        "#ex_2()\n",
        "#ex_3(\"Pooya\")\n",
        "#ex_3(\"Linh\")\n",
        "#ex_4(\"Pooya\", 1) #prints name after the index amount\n",
        "#ex_5([1,2,3,4,5],3)\n",
        "#ex_6([\"pooya\",\"Hello whats up my name is pooya\",\"I am stuck under the water\"])\n",
        "#ex_7(\"2025551212\")\n",
        "#ex_8([\"Ari\",\"Popi\",\"Eri\"], \"Popi\")\n",
        "#ex_9(\"I am stuck under the water\")"
      ]
    },
    {
      "cell_type": "markdown",
      "metadata": {},
      "source": [
        "### Recursion"
      ]
    },
    {
      "cell_type": "code",
      "execution_count": null,
      "metadata": {
        "id": "LHCVPfoask9F"
      },
      "outputs": [],
      "source": [
        "# @title Example 13: Recursion\n",
        "#example of recursion for factorial\n",
        "#recursions have a maximum for loop of 1000\n",
        "def ex_1(n):\n",
        "  if n<2:\n",
        "    return 1\n",
        "  else:\n",
        "    return n*ex_1(n-1) #recursive part\n",
        "\n",
        "#factorial with display\n",
        "def ex_2(n):\n",
        "  print(\"Factorial called with \" + str(n))\n",
        "  if n < 2:\n",
        "    print(\"Returning 1\")\n",
        "    return 1\n",
        "  result = n * ex_2(n-1) #recursive part\n",
        "  print(\"Returning \" + str(result) + \" for factorial of \" + str(n))\n",
        "  return result\n",
        "\n",
        "#power of number\n",
        "def ex_3(number, base):\n",
        "  if number < base:\n",
        "    return number == 1\n",
        "  return ex_3(number // base, base)\n",
        "\n",
        "#---------------------------------------------\n",
        "# print(ex_1(3))\n",
        "# print(ex_1(1000)) #will give an error cause maximum amount reached\n",
        "# print(ex_2(3))\n",
        "# print(ex_3(8, 2))\n",
        "# print(ex_3(64, 4))\n",
        "# print(ex_3(70, 10))"
      ]
    },
    {
      "cell_type": "markdown",
      "metadata": {
        "id": "3F9Saz5VAOPG"
      },
      "source": [
        "## Module 4: Dictionaries"
      ]
    },
    {
      "cell_type": "markdown",
      "metadata": {},
      "source": [
        "### Strings"
      ]
    },
    {
      "cell_type": "code",
      "execution_count": null,
      "metadata": {
        "id": "B-t8crijAQ3V"
      },
      "outputs": [],
      "source": [
        "# @title Example 1: Strings\n",
        "\n",
        "#string definitions\n",
        "def ex_1():\n",
        "  name = \"Pooya\" #can use double \"\"\n",
        "  color = 'black' #or one ''\n",
        "  print(f'When 2 strings are concatenated: {name + color}')\n",
        "  print(f'length of name: {len(name)}')\n",
        "  print(name[1:3])\n",
        "  print(name[-1])\n",
        "  print(name[2:])\n",
        "\n",
        "#Method is a function associated with a specific class\n",
        "#tells the index of the chosen letter\n",
        "#index method only returns the first discovered letter\n",
        "def ex_2(letter, location):\n",
        "  return letter.index(location)\n",
        "\n",
        "#checking a letter in a string\n",
        "def ex_3(word, init):\n",
        "  print(init in word)\n",
        "\n",
        "#replacing old company email\n",
        "def ex_4(email, old_domain, new_domain):\n",
        "  if \"@\" + old_domain in email:\n",
        "    index = email.index(\"@\" + old_domain)\n",
        "    new_email = email[:index] + \"@\" + new_domain\n",
        "    return new_email\n",
        "  return email\n",
        "\n",
        "#string methods\n",
        "def ex_5(name_1):\n",
        "  print(f'upper cases the text:{name_1.upper()}')\n",
        "  print(f'lower cases the text:{name_1.lower()}')\n",
        "  print(f'makes the text a title:{name_1.title()}')\n",
        "  print(f'removes space from both ways:{name_1.strip()}') #removes space from both sides\n",
        "  print(f'removes space from left:{name_1.lstrip()}') #removes space from left side\n",
        "  print(f'removes space from right side:{name_1.rstrip()}') #removes space from right side\n",
        "\n",
        "#How much a letter was repeated\n",
        "def ex_6(text, letter):\n",
        "  print(f'the amount of letter \"{letter}\" repeated in sentence: {text.count(letter)}')\n",
        "\n",
        "#other methods\n",
        "def ex_7():\n",
        "  print(\"Forest\".endswith(\"rest\"))\n",
        "  print(\"Forest\".isnumeric())\n",
        "  print(\"12546\".isnumeric())\n",
        "  print(\"Forest1\".isalpha()) #checks if all the characters are alphabetic\n",
        "  print(\"Forest1\".isalnum()) #checks if all the characters are alphabetic & numeric\n",
        "\n",
        "#user input\n",
        "def ex_8(user_input):\n",
        "  if user_input.lower().strip() == \"yes\":\n",
        "    print(\"User said yes\")\n",
        "\n",
        "#split method\n",
        "def ex_9(sentence):\n",
        "  print(sentence.split()) #automatically splits by any white space\n",
        "  print(sentence.split(\"i\")) #splits by the letter \"i\"\n",
        "\n",
        "#format deals with string and int and prints where its {}\n",
        "def ex_10():\n",
        "  name = \"Pooya\"\n",
        "  number = len(name) * 3\n",
        "  price = 2.3457\n",
        "  print(f'Hello {name}. Your lucky number is {number}.') #without format\n",
        "  print(\"Hello {}. Your lucky number is {}.\".format(name, number)) #with format\n",
        "  print(\"my lucky number is {number}, {name}\".format(name=name, number=len(name)*3))\n",
        "  print(\"Base price: ${:.2f}\".format(price)) #rounds it up to 2 digits\n",
        "\n",
        "#formatting expression\n",
        "def ex_11(number):\n",
        "  print(n)\n",
        "\n",
        "#--------------------------------------------\n",
        "# ex_1()\n",
        "# ex_2(\"Dragon\", \"g\")\n",
        "# ex_3(\"I am a cat\",\"Dragon\")\n",
        "# ex_3(\"I am a cat\",\"cat\")\n",
        "# ex_5(\"      my name is pooya     \")\n",
        "# ex_6(\"Hello my name is popi the great\",\"a\")\n",
        "# ex_7()\n",
        "# ex_8(\"   YEs      \")\n",
        "# ex_9(\"Hi this is a sentence\")\n",
        "# ex_10()"
      ]
    },
    {
      "cell_type": "markdown",
      "metadata": {},
      "source": [
        "### Lists"
      ]
    },
    {
      "cell_type": "code",
      "execution_count": null,
      "metadata": {
        "colab": {
          "base_uri": "https://localhost:8080/"
        },
        "id": "wi6o4kK-L6mp",
        "outputId": "5a429222-e2eb-48de-84bd-1441b2e3bc5e"
      },
      "outputs": [
        {
          "name": "stdout",
          "output_type": "stream",
          "text": [
            "(0, 50, 0)\n",
            "<class 'tuple'>\n"
          ]
        }
      ],
      "source": [
        "# @title Example 2: Lists\n",
        "\n",
        "#mutable means it can be changed\n",
        "#strings:sequence of characters, are immutable\n",
        "#lists: sequence of elements of any type, are mutable\n",
        "#tuple: sequences of elements of any type, are immutable\n",
        "\n",
        "\n",
        "\n",
        "#format deals with string and int and prints where its {}\n",
        "def ex_1(sentence, word):\n",
        "  print(type(sentence))\n",
        "  print(sentence)\n",
        "  print(len(sentence))\n",
        "  print(sentence[:2]) #slice\n",
        "  print(sentence[:])\n",
        "  print(sentence[:-1])\n",
        "  #convert each word in sentence to lowercase to join in a single string\n",
        "  sentence_str = \"\".join(sentence).lower()\n",
        "  #should use lower() instead of lowercase() for lists\n",
        "  print(word.lower() in sentence_str)\n",
        "\n",
        "def ex_2(sentence, word):\n",
        "  print(sentence)\n",
        "  #append\n",
        "  sentence.append(word) #adds word to the end of the list\n",
        "  print(sentence)\n",
        "  #insert\n",
        "  sentence.insert(0,\"eri\")\n",
        "  sentence.insert(20,\"popi\")\n",
        "  print(sentence)\n",
        "  #remove\n",
        "  sentence.remove(\"popi\")\n",
        "  print(sentence)\n",
        "  #pop only recieves index\n",
        "  sentence.pop(1)\n",
        "  print(sentence)\n",
        "\n",
        "#tuple\n",
        "#you use tuple when u want the data to not change.\n",
        "#also you use ''\n",
        "def ex_3(seconds):\n",
        "  hours = seconds // 3600\n",
        "  minutes = (seconds - hours * 3600) // 60\n",
        "  remaining_seconds = seconds - hours * 3600 - minutes * 60\n",
        "  tuple_result =hours, minutes, remaining_seconds\n",
        "  print(tuple_result)\n",
        "  print(type(tuple_result))\n",
        "\n",
        "#------------------------------------------------\n",
        "\n",
        "\n",
        "\n",
        "#-----------------------------------------\n",
        "#ex_1([\"This\", \"is\", \"a\", \"sentence.\"], \"this\")\n",
        "# ex_2([\"This\", \"is\", \"ari\"],\"goat\")\n",
        "ex_3(3000)"
      ]
    },
    {
      "cell_type": "markdown",
      "metadata": {},
      "source": [
        "### Dictionaries"
      ]
    },
    {
      "cell_type": "code",
      "execution_count": null,
      "metadata": {
        "id": "1Naq6LhtRbYg"
      },
      "outputs": [],
      "source": [
        "# @title Example 3: Dictionaries\n",
        "\n",
        "#format deals with string and int and prints where its {}\n",
        "def ex_1():\n",
        "  pass\n",
        "\n",
        "#-----------------------------------------\n",
        "ex_1()"
      ]
    },
    {
      "cell_type": "markdown",
      "metadata": {},
      "source": [
        "### Object-oriented Programming"
      ]
    },
    {
      "cell_type": "code",
      "execution_count": null,
      "metadata": {
        "id": "pm5fu6HdRfKX"
      },
      "outputs": [],
      "source": [
        "# @title Example 4: Object-oriented Programming\n",
        "\n",
        "#format deals with string and int and prints where its {}\n",
        "def ex_1():\n",
        "  pass\n",
        "\n",
        "#-----------------------------------------\n",
        "ex_1()"
      ]
    },
    {
      "cell_type": "markdown",
      "metadata": {
        "id": "rhKkRiErkb2P"
      },
      "source": [
        "# Object Oriented Programming"
      ]
    },
    {
      "cell_type": "code",
      "execution_count": null,
      "metadata": {
        "colab": {
          "base_uri": "https://localhost:8080/"
        },
        "id": "v4hfjj5rr20u",
        "outputId": "cd6ae5d3-993d-4668-adcd-55355ed5788c"
      },
      "outputs": [
        {
          "name": "stdout",
          "output_type": "stream",
          "text": [
            "<class 'str'>\n",
            "<class 'int'>\n",
            "<class 'function'>\n",
            "HELLO\n"
          ]
        }
      ],
      "source": [
        "x=1\n",
        "print(type(\"hello\")) #\"hello\" is the object from the class string\n",
        "print(type(x)) #x is the object from the class int\n",
        "\n",
        "def hello():\n",
        "  print(\"hello\")\n",
        "\n",
        "print(type(hello)) #hello is the object from the class function\n",
        "\n",
        "#Almost everything we work in python is an\n",
        "#object of some kind of class\n",
        "#all above examples are \"built-in types\"\n",
        "\n",
        "example1 = \"hello\"\n",
        "print(example1.upper()) #upper is called a \"method\" that is happening on an object\n",
        "\n"
      ]
    },
    {
      "cell_type": "markdown",
      "metadata": {
        "id": "dhEKMtA9r1qt"
      },
      "source": []
    },
    {
      "cell_type": "code",
      "execution_count": null,
      "metadata": {
        "colab": {
          "base_uri": "https://localhost:8080/"
        },
        "id": "K2hvMvS2uEzM",
        "outputId": "f20ed38d-3bc4-40cf-9c2a-68454e48b69e"
      },
      "outputs": [
        {
          "name": "stdout",
          "output_type": "stream",
          "text": [
            "<class '__main__.Dog'>\n",
            "This is for add_one function: 5\n",
            "woof woof\n",
            "woof woof\n"
          ]
        }
      ],
      "source": [
        "# \"method\" is a function inside a class\n",
        "class Dog:\n",
        "  def add_one(self, x): #method\n",
        "    return x+1\n",
        "\n",
        "  def bark(self): #method\n",
        "    print(\"woof woof\")\n",
        "\n",
        "print(type(d))\n",
        "\n",
        "kim = Dog()\n",
        "print(f'This is for add_one function: {kim.add_one(4)}')\n",
        "\n",
        "kim = Dog() #creating a new instance of type Dog\n",
        "kim.bark()\n",
        "#or\n",
        "Dog().bark()\n",
        "\n",
        "\n"
      ]
    },
    {
      "cell_type": "code",
      "execution_count": null,
      "metadata": {
        "colab": {
          "base_uri": "https://localhost:8080/"
        },
        "id": "58jp3pvoOPHq",
        "outputId": "e76908f4-b905-47c7-968a-626b7b0cb025"
      },
      "outputs": [
        {
          "name": "stdout",
          "output_type": "stream",
          "text": [
            "My Cats name is: Tom and it is 4 years old.\n",
            "My Cats name is: Asali and it is 5 years old.\n",
            "Name of first cat: Tom\n",
            "Name of second cat: Asali\n",
            "Tom\n",
            "Asali\n",
            "This is the age of d1: 4\n",
            "This is the old age: 5\n",
            "This is the updated age: 2\n"
          ]
        }
      ],
      "source": [
        "class Cat:\n",
        "#self should be always written\n",
        "#__init__ method will be called anytime we call the class\n",
        "  def __init__(self, name, age): #method\n",
        "    self.name = name #we made an attribute that saves the name\n",
        "    self.age = age #we made an attribute that saves the age\n",
        "    print(f'My Cats name is: {name} and it is {age} years old.')\n",
        "\n",
        "  def get_name(self): #method (another method to print the name)\n",
        "    return self.name\n",
        "\n",
        "  def get_age(self):\n",
        "    return self.age\n",
        "\n",
        "  def change_age(self, age): #I can change the attributes of other methods\n",
        "    self.age = age\n",
        "\n",
        "#--------------------------------------------------------------------------------------\n",
        "d1 = Cat(\"Tom\",4)\n",
        "d2 = Cat(\"Asali\",5)\n",
        "print(f'Name of first cat: {d1.name}') #it is also stored permanantly inside the class\n",
        "print(f'Name of second cat: {d2.name}') #it is also stored permanantly inside the class\n",
        "\n",
        "#another method to print name\n",
        "print(d1.get_name())\n",
        "print(d2.get_name())\n",
        "\n",
        "#method to print the age\n",
        "print(f'This is the age of d1: {d1.get_age()}')\n",
        "print(f'This is the old age: {d2.get_age()}') #old age\n",
        "d2.change_age(2)\n",
        "print(f'This is the updated age: {d2.get_age()}') #age has been changed"
      ]
    },
    {
      "cell_type": "markdown",
      "metadata": {},
      "source": [
        "### Multiple Class example"
      ]
    },
    {
      "cell_type": "code",
      "execution_count": null,
      "metadata": {
        "colab": {
          "base_uri": "https://localhost:8080/"
        },
        "id": "9Gy0WlIhUTY5",
        "outputId": "b2df5e31-3add-4b26-b8ee-baa358d3bc41"
      },
      "outputs": [
        {
          "name": "stdout",
          "output_type": "stream",
          "text": [
            "First person in class 1: Ari\n",
            "Second person in class 1: Popi\n",
            "False\n",
            "85.0\n"
          ]
        }
      ],
      "source": [
        "# @title Multiple Class Example\n",
        "class Student:\n",
        "  def __init__(self, name, age, grade):\n",
        "    self.name = name\n",
        "    self.age = age\n",
        "    self.grade = grade #0-100\n",
        "\n",
        "  def get_grade(self):\n",
        "    return self.grade\n",
        "#------------------------------------------------\n",
        "class Course:\n",
        "  def __init__(self, name, max_students):\n",
        "    self.name = name\n",
        "    self.max_students = max_students\n",
        "    #a list to add the students to the class\n",
        "    self.students = [] #notice it is not assigned to any of the attributes\n",
        "\n",
        "  def add_student(self, student):\n",
        "    if len(self.students) < self.max_students:\n",
        "      self.students.append(student)\n",
        "      return True #just to check if a student was added successfully\n",
        "    return False\n",
        "\n",
        "  def get_average_grade(self):\n",
        "    value = 0\n",
        "    for student in self.students:\n",
        "      value += student.get_grade()\n",
        "\n",
        "    return value / len(self.students)\n",
        "#------------------------------------------------\n",
        "\n",
        "#Student list\n",
        "s1 = Student(\"Ari\", 18, 95)\n",
        "s2 = Student(\"Popi\", 19, 75)\n",
        "s3 = Student(\"Eri\", 19, 65)\n",
        "\n",
        "#course list\n",
        "course_1 = Course(\"Data Science\", 2)\n",
        "course_2 = Course(\"Mathematics\", 1)\n",
        "course_3 = Course(\"English\", 3)\n",
        "\n",
        "#adding students to the course\n",
        "course_1.add_student(s1)\n",
        "course_1.add_student(s2)\n",
        "\n",
        "\n",
        "print(f'First person in class 1: {course_1.students[0].name}')\n",
        "print(f'Second person in class 1: {course_1.students[1].name}')\n",
        "print(course_1.add_student(s3))\n",
        "print(course_1.get_average_grade())"
      ]
    },
    {
      "cell_type": "markdown",
      "metadata": {},
      "source": [
        "### Inheritence"
      ]
    },
    {
      "cell_type": "code",
      "execution_count": null,
      "metadata": {
        "id": "3UjaGV_shHam"
      },
      "outputs": [],
      "source": [
        "# @title inhertitence\n",
        "class Cat:\n",
        "  def __init__(self, name, age):\n",
        "    self.name = name\n",
        "    self.age = age\n",
        "\n",
        "  def speak(self):\n",
        "    print(\"Meow\")\n",
        "#---------------------------------------\n",
        "class Dog:\n",
        "  def __init__(self, name, age):\n",
        "    self.name = name\n",
        "    self.age = age\n",
        "\n",
        "  def speak(self):\n",
        "    print(\"Bark\")\n",
        "\n",
        "#there must be a shorter way to just write the difference\n",
        "#between these 2 classes and just type one class"
      ]
    },
    {
      "cell_type": "code",
      "execution_count": null,
      "metadata": {
        "colab": {
          "base_uri": "https://localhost:8080/"
        },
        "id": "Voa-awBVhhdF",
        "outputId": "b646ce42-ca14-406b-d1d2-97795de0983e"
      },
      "outputs": [
        {
          "name": "stdout",
          "output_type": "stream",
          "text": [
            "I am Tim and I am 19 years old.\n",
            "I am Bill and I am 34 years old.\n",
            "I am Jill and I am 25 years old.\n",
            "Meaow\n",
            "Bark\n",
            "I am a Pet.\n",
            "I am a Pet.\n"
          ]
        }
      ],
      "source": [
        "class Pet: #general (Parent Class)\n",
        "  def __init__(self, name, age):\n",
        "    self.name = name\n",
        "    self.age = age\n",
        "\n",
        "  def show(self):\n",
        "    print(f'I am {self.name} and I am {self.age} years old.')\n",
        "\n",
        "  def speak(self):\n",
        "    print(\"I am a Pet.\")\n",
        "\n",
        "class Cat(Pet): #specific in pet (Child Class)\n",
        "  def speak(self):\n",
        "    print(\"Meaow\")\n",
        "\n",
        "class Dog(Pet): #specific in pet (Child Class)\n",
        "  def speak(self):\n",
        "    print(\"Bark\")\n",
        "\n",
        "class Fish(Pet):\n",
        "  pass\n",
        "\n",
        "\n",
        "p_1 = Pet(\"Tim\", 19)\n",
        "p_1.show()\n",
        "\n",
        "c_1 = Cat(\"Bill\", 34)\n",
        "c_1.show() #it inhereted the .show method from Pet class\n",
        "\n",
        "d_1 = Dog(\"Jill\", 25)\n",
        "d_1.show()\n",
        "\n",
        "c_1.speak()\n",
        "d_1.speak()\n",
        "\n",
        "p_1.speak()\n",
        "f_1 = Fish(\"Nemo\", 2)\n",
        "f_1.speak()\n",
        "\n",
        "#it always uses the child method first if available and if not then parent"
      ]
    }
  ],
  "metadata": {
    "colab": {
      "provenance": [],
      "toc_visible": true
    },
    "kernelspec": {
      "display_name": "Python 3",
      "name": "python3"
    },
    "language_info": {
      "name": "python"
    }
  },
  "nbformat": 4,
  "nbformat_minor": 0
}
